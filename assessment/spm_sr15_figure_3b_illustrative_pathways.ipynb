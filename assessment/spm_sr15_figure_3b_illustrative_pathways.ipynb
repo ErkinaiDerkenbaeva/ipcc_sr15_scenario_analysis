{
 "cells": [
  {
   "cell_type": "markdown",
   "metadata": {},
   "source": [
    "### *IPCC SR15 scenario assessment*\n",
    "\n",
    "<img style=\"float: right; height: 80px; padding-left: 20px;\" src=\"../_static/IIASA_logo.png\">\n",
    "<img style=\"float: right; height: 80px;\" src=\"../_static/IAMC_logo.jpg\">\n",
    "\n",
    "# Characteristics of four illustrative model pathways\n",
    "## Figure 3b of the *Summary for Policymakers*\n",
    "\n",
    "This notebook derives the indicators for the table in Figure 3b in the Summary for Policymakers\n",
    "of the IPCC's _\"Special Report on Global Warming of 1.5°C\"_.\n",
    "\n",
    "The scenario data used in this analysis can be accessed and downloaded at [https://data.ene.iiasa.ac.at/iamc-1.5c-explorer](https://data.ene.iiasa.ac.at/iamc-1.5c-explorer)."
   ]
  },
  {
   "cell_type": "markdown",
   "metadata": {},
   "source": [
    "## Load `pyam` package and other dependencies"
   ]
  },
  {
   "cell_type": "code",
   "execution_count": null,
   "metadata": {},
   "outputs": [],
   "source": [
    "import pandas as pd\n",
    "import numpy as np\n",
    "import warnings\n",
    "import io\n",
    "import itertools\n",
    "import yaml\n",
    "import math\n",
    "import matplotlib.pyplot as plt\n",
    "plt.style.use('style_sr15.mplstyle')\n",
    "%matplotlib inline\n",
    "import pyam"
   ]
  },
  {
   "cell_type": "markdown",
   "metadata": {},
   "source": [
    "## Import scenario data, categorization and specifications files\n",
    "\n",
    "The metadata file must be generated from the notebook `sr15_2.0_categories_indicators` included in this repository.  \n",
    "If the snapshot file has been updated, make sure that you rerun the categorization notebook.\n",
    "\n",
    "The last cell of this section loads and assigns a number of auxiliary lists as defined in the categorization notebook."
   ]
  },
  {
   "cell_type": "code",
   "execution_count": null,
   "metadata": {},
   "outputs": [],
   "source": [
    "sr1p5 = pyam.IamDataFrame(data='../data/iamc15_scenario_data_world_r1.1.xlsx')"
   ]
  },
  {
   "cell_type": "code",
   "execution_count": null,
   "metadata": {},
   "outputs": [],
   "source": [
    "sr1p5.load_metadata('sr15_metadata_indicators.xlsx')"
   ]
  },
  {
   "cell_type": "code",
   "execution_count": null,
   "metadata": {},
   "outputs": [],
   "source": [
    "with open(\"sr15_specs.yaml\", 'r') as stream:\n",
    "    specs = yaml.load(stream, Loader=yaml.FullLoader)\n",
    "\n",
    "rc = pyam.run_control()\n",
    "for item in specs.pop('run_control').items():\n",
    "    rc.update({item[0]: item[1]})\n",
    "cats_15 = specs.pop('cats_15')\n",
    "cats_15_no_lo = specs.pop('cats_15_no_lo')\n",
    "marker = specs.pop('marker')"
   ]
  },
  {
   "cell_type": "markdown",
   "metadata": {},
   "source": [
    "## Downselect scenario ensemble to categories of interest for this assessment"
   ]
  },
  {
   "cell_type": "code",
   "execution_count": null,
   "metadata": {},
   "outputs": [],
   "source": [
    "sr1p5.meta.rename(columns={'Kyoto-GHG|2010 (SAR)': 'kyoto_ghg_2010'}, inplace=True)"
   ]
  },
  {
   "cell_type": "code",
   "execution_count": null,
   "metadata": {},
   "outputs": [],
   "source": [
    "df = sr1p5.filter(category=cats_15)"
   ]
  },
  {
   "cell_type": "code",
   "execution_count": null,
   "metadata": {},
   "outputs": [],
   "source": [
    "base_year = 2010\n",
    "compare_years = [2030, 2050]\n",
    "years = [base_year] + compare_years"
   ]
  },
  {
   "cell_type": "markdown",
   "metadata": {},
   "source": [
    "## Initialize a `pyam.Statistics` instance"
   ]
  },
  {
   "cell_type": "code",
   "execution_count": null,
   "metadata": {},
   "outputs": [],
   "source": [
    "stats = pyam.Statistics(df=df, groupby={'marker': ['LED', 'S1', 'S2', 'S5']},\n",
    "                        filters=[(('pathways', 'no & lo os 1.5'), {'category': cats_15_no_lo})])"
   ]
  },
  {
   "cell_type": "markdown",
   "metadata": {},
   "source": [
    "## Collecting indicators\n",
    "\n",
    "### CO2 and Kyoto GHG emissions reductions"
   ]
  },
  {
   "cell_type": "code",
   "execution_count": null,
   "metadata": {},
   "outputs": [],
   "source": [
    "co2 = (\n",
    "    df.filter(kyoto_ghg_2010='in range', variable='Emissions|CO2', year=years)\n",
    "    .convert_unit({'Mt CO2/yr': ('Gt CO2/yr', 0.001)})\n",
    "    .timeseries()\n",
    ")"
   ]
  },
  {
   "cell_type": "code",
   "execution_count": null,
   "metadata": {},
   "outputs": [],
   "source": [
    "for y in compare_years:\n",
    "    stats.add((co2[y] / co2[2010] - 1) * 100,\n",
    "        'CO2 emission reduction (% relative to 2010)',\n",
    "        subheader=y)"
   ]
  },
  {
   "cell_type": "code",
   "execution_count": null,
   "metadata": {},
   "outputs": [],
   "source": [
    "kyoto_ghg = (\n",
    "    df.filter(kyoto_ghg_2010='in range', variable='Emissions|Kyoto Gases (SAR-GWP100)', year=years)\n",
    "    .convert_unit({'Mt CO2-equiv/yr': ('Gt CO2-equiv/yr', 0.001)})\n",
    "    .timeseries()\n",
    ")\n",
    "for y in compare_years:\n",
    "    stats.add((kyoto_ghg[y] / kyoto_ghg[base_year] - 1) * 100,\n",
    "        'Kyoto-GHG emission reduction (SAR-GWP100), % relative to {})'.format(base_year),\n",
    "        subheader=y)"
   ]
  },
  {
   "cell_type": "markdown",
   "metadata": {},
   "source": [
    "### Final energy demand reduction relative to 2010"
   ]
  },
  {
   "cell_type": "code",
   "execution_count": null,
   "metadata": {},
   "outputs": [],
   "source": [
    "fe = df.filter(variable='Final Energy', year=years).timeseries()\n",
    "for y in compare_years:\n",
    "    stats.add((fe[y] / fe[base_year] - 1) * 100,\n",
    "              'Final energy demand reduction relative to {} (%)'.format(base_year),\n",
    "              subheader=y)"
   ]
  },
  {
   "cell_type": "markdown",
   "metadata": {},
   "source": [
    "### Share of renewables in electricity generation"
   ]
  },
  {
   "cell_type": "code",
   "execution_count": null,
   "metadata": {},
   "outputs": [],
   "source": [
    "def add_stats_share(stats, var_list, name, total, total_name, years, df=df):\n",
    "\n",
    "    _df = df.filter(variable=var_list)\n",
    "    for v in var_list:\n",
    "        _df.require_variable(v, exclude_on_fail=True)\n",
    "    _df.filter(exclude=False, inplace=True)\n",
    "\n",
    "    component = (\n",
    "        _df.timeseries()\n",
    "        .groupby(['model', 'scenario']).sum()\n",
    "    )\n",
    "    share = component / total * 100\n",
    "    \n",
    "    for y in years:\n",
    "        stats.add(share[y], header='Share of {} in {} (%)'.format(name, total_name),\n",
    "                  subheader=y)"
   ]
  },
  {
   "cell_type": "code",
   "execution_count": null,
   "metadata": {},
   "outputs": [],
   "source": [
    "ele = df.filter(variable='Secondary Energy|Electricity', year=compare_years).timeseries()\n",
    "ele.index = ele.index.droplevel([2, 3, 4])"
   ]
  },
  {
   "cell_type": "code",
   "execution_count": null,
   "metadata": {},
   "outputs": [],
   "source": [
    "ele_re_vars = [\n",
    "    'Secondary Energy|Electricity|Biomass',\n",
    "    'Secondary Energy|Electricity|Non-Biomass Renewables'\n",
    "]\n",
    "add_stats_share(stats, ele_re_vars, 'renewables', ele, 'electricity', compare_years)"
   ]
  },
  {
   "cell_type": "markdown",
   "metadata": {},
   "source": [
    "### Changes in primary energy mix"
   ]
  },
  {
   "cell_type": "code",
   "execution_count": null,
   "metadata": {},
   "outputs": [],
   "source": [
    "mapping = [\n",
    "    ('coal', 'Coal'),\n",
    "    ('oil', 'Oil'),\n",
    "    ('gas', 'Gas'),\n",
    "    ('nuclear', 'Nuclear'),\n",
    "    ('bioenergy', 'Biomass'),\n",
    "    ('non-biomass renewables', 'Non-Biomass Renewables')\n",
    "]"
   ]
  },
  {
   "cell_type": "code",
   "execution_count": null,
   "metadata": {},
   "outputs": [],
   "source": [
    "for (n, v) in mapping:\n",
    "    data = df.filter(variable='Primary Energy|{}'.format(v), year=years).timeseries()\n",
    "\n",
    "    for y in compare_years:\n",
    "        stats.add((data[y] / data[base_year] - 1) * 100,\n",
    "                  header='Primary energy from {} (% rel to {})'.format(n, base_year),\n",
    "                  subheader=y)"
   ]
  },
  {
   "cell_type": "markdown",
   "metadata": {},
   "source": [
    "###  Cumulative carbon capture and sequestration until the end of the century"
   ]
  },
  {
   "cell_type": "code",
   "execution_count": null,
   "metadata": {},
   "outputs": [],
   "source": [
    "def cumulative_ccs(variable, name, first_year=2016, last_year=2100):\n",
    "\n",
    "    data = (\n",
    "        df.filter(variable=variable)\n",
    "        .convert_unit({'Mt CO2/yr': ('Gt CO2/yr', 0.001)})\n",
    "        .timeseries()\n",
    "    )\n",
    "    \n",
    "    stats.add(\n",
    "        data.apply(pyam.cumulative, raw=False, axis=1,\n",
    "                   first_year=first_year, last_year=last_year),\n",
    "        header='Cumulative {} until {} (GtCO2)'.format(name, last_year), subheader='')"
   ]
  },
  {
   "cell_type": "code",
   "execution_count": null,
   "metadata": {},
   "outputs": [],
   "source": [
    "cumulative_ccs('Carbon Sequestration|CCS', 'CCS')"
   ]
  },
  {
   "cell_type": "code",
   "execution_count": null,
   "metadata": {},
   "outputs": [],
   "source": [
    "cumulative_ccs('Carbon Sequestration|CCS|Biomass', 'BECCS')"
   ]
  },
  {
   "cell_type": "markdown",
   "metadata": {},
   "source": [
    "### Land cover for energy crops\n",
    "\n",
    "Convert unit to SI unit (million square kilometers)."
   ]
  },
  {
   "cell_type": "code",
   "execution_count": null,
   "metadata": {},
   "outputs": [],
   "source": [
    "energy_crops = (\n",
    "    df.filter(variable='Land Cover|Cropland|Energy Crops', year=2050)\n",
    "    .convert_unit({'million ha': ('million km2', 0.01)})\n",
    "    .timeseries()\n",
    ")"
   ]
  },
  {
   "cell_type": "code",
   "execution_count": null,
   "metadata": {},
   "outputs": [],
   "source": [
    "stats.add(energy_crops[2050], header='Land are for energy crops (million km2)')"
   ]
  },
  {
   "cell_type": "markdown",
   "metadata": {},
   "source": [
    "### Emissions from land use"
   ]
  },
  {
   "cell_type": "code",
   "execution_count": null,
   "metadata": {},
   "outputs": [],
   "source": [
    "species = ['CH4', 'N2O']"
   ]
  },
  {
   "cell_type": "code",
   "execution_count": null,
   "metadata": {},
   "outputs": [],
   "source": [
    "for n in species:\n",
    "    data = df.filter(kyoto_ghg_2010='in range', variable='Emissions|{}|AFOLU'.format(n), year=years).timeseries()\n",
    "\n",
    "    for y in compare_years:\n",
    "        stats.add((data[y] / data[base_year] - 1) * 100,\n",
    "                  header='Agricultural {} emissions (% rel to {})'.format(n, base_year),\n",
    "                  subheader=y)"
   ]
  },
  {
   "cell_type": "markdown",
   "metadata": {},
   "source": [
    "## Display summary statistics and export to `xlsx`"
   ]
  },
  {
   "cell_type": "code",
   "execution_count": null,
   "metadata": {},
   "outputs": [],
   "source": [
    "summary = stats.summarize(interquartile=True, custom_format='{:.0f}').T\n",
    "summary"
   ]
  },
  {
   "cell_type": "code",
   "execution_count": null,
   "metadata": {},
   "outputs": [],
   "source": [
    "summary.to_excel('output/spm_sr15_figure3b_indicators_table.xlsx')"
   ]
  },
  {
   "cell_type": "code",
   "execution_count": null,
   "metadata": {},
   "outputs": [],
   "source": []
  }
 ],
 "metadata": {
  "kernelspec": {
   "display_name": "Python [default]",
   "language": "python",
   "name": "python3"
  },
  "language_info": {
   "codemirror_mode": {
    "name": "ipython",
    "version": 3
   },
   "file_extension": ".py",
   "mimetype": "text/x-python",
   "name": "python",
   "nbconvert_exporter": "python",
   "pygments_lexer": "ipython3",
   "version": "3.6.6"
  }
 },
 "nbformat": 4,
 "nbformat_minor": 2
}
