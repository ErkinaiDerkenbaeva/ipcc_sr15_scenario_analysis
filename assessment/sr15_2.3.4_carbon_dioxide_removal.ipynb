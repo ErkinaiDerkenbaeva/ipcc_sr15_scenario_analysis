{
 "cells": [
  {
   "cell_type": "markdown",
   "metadata": {},
   "source": [
    "### *IPCC SR15 scenario assessment*\n",
    "\n",
    "<img style=\"float: right; height: 80px; padding-left: 20px;\" src=\"../_static/IIASA_logo.png\">\n",
    "<img style=\"float: right; height: 80px;\" src=\"../_static/IAMC_logo.jpg\">\n",
    "\n",
    "# Analysis of carbon dioxide removal (CDR)\n",
    "\n",
    "This notebook generates the assessment of carbon dioxide removal for **Figure 2.9** in the IPCC's _\"Special Report on Global Warming of 1.5°C\"_.\n",
    "\n",
    "The scenario data used in this analysis can be accessed and downloaded at [https://data.ene.iiasa.ac.at/iamc-1.5c-explorer](https://data.ene.iiasa.ac.at/iamc-1.5c-explorer)."
   ]
  },
  {
   "cell_type": "markdown",
   "metadata": {},
   "source": [
    "## Load `pyam` package and other dependencies"
   ]
  },
  {
   "cell_type": "code",
   "execution_count": null,
   "metadata": {},
   "outputs": [],
   "source": [
    "import pandas as pd\n",
    "import numpy as np\n",
    "import io\n",
    "import itertools\n",
    "import yaml\n",
    "import math\n",
    "import matplotlib.pyplot as plt\n",
    "plt.style.use('style_sr15.mplstyle')\n",
    "%matplotlib inline\n",
    "import pyam"
   ]
  },
  {
   "cell_type": "markdown",
   "metadata": {},
   "source": [
    "## Import scenario data, categorization and specifications files\n",
    "\n",
    "The metadata file with scenario categorisation and quantitative indicators can be downloaded at [https://data.ene.iiasa.ac.at/iamc-1.5c-explorer](https://data.ene.iiasa.ac.at/iamc-1.5c-explorer).  \n",
    "Alternatively, it can be re-created using the notebook `sr15_2.0_categories_indicators`.\n",
    "\n",
    "The last cell of this section loads and assigns a number of auxiliary lists as defined in the categorization notebook."
   ]
  },
  {
   "cell_type": "code",
   "execution_count": null,
   "metadata": {},
   "outputs": [],
   "source": [
    "sr1p5 = pyam.IamDataFrame(data='../data/iamc15_scenario_data_world_r2.0.xlsx')"
   ]
  },
  {
   "cell_type": "code",
   "execution_count": null,
   "metadata": {},
   "outputs": [],
   "source": [
    "sr1p5.load_meta('sr15_metadata_indicators.xlsx')"
   ]
  },
  {
   "cell_type": "code",
   "execution_count": null,
   "metadata": {},
   "outputs": [],
   "source": [
    "with open(\"sr15_specs.yaml\", 'r') as stream:\n",
    "    specs = yaml.load(stream, Loader=yaml.FullLoader)\n",
    "\n",
    "rc = pyam.run_control()\n",
    "for item in specs.pop('run_control').items():\n",
    "    rc.update({item[0]: item[1]})\n",
    "cats = specs.pop('cats')\n",
    "all_cats = specs.pop('all_cats')\n",
    "subcats = specs.pop('subcats')\n",
    "all_subcats = specs.pop('all_subcats')\n",
    "plotting_args = specs.pop('plotting_args')\n",
    "marker = specs.pop('marker')"
   ]
  },
  {
   "cell_type": "markdown",
   "metadata": {},
   "source": [
    "## Downselect scenario ensemble to categories of interest for this assessment"
   ]
  },
  {
   "cell_type": "code",
   "execution_count": null,
   "metadata": {},
   "outputs": [],
   "source": [
    "df = sr1p5.filter(category=cats)"
   ]
  },
  {
   "cell_type": "markdown",
   "metadata": {},
   "source": [
    "## Set specifications for filter and plotting"
   ]
  },
  {
   "cell_type": "code",
   "execution_count": null,
   "metadata": {},
   "outputs": [],
   "source": [
    "filter_args = dict(df=sr1p5, category=cats, marker=None, join_meta=True)"
   ]
  },
  {
   "cell_type": "markdown",
   "metadata": {},
   "source": [
    "## Retrieve carbon dioxide emissions and generate two auxiliary variables with net-negative CO2 emissions \n",
    "\n",
    "For easier aggregation of the timeseries later on towards different metrics of carbon dioxide removal, we introduce both a positive net-negative timeseries (A, where the removal of 1Gt CO2 is counted as a positive value) and a timeseries where the sequestered amount is defined as a negative value (B)."
   ]
  },
  {
   "cell_type": "code",
   "execution_count": null,
   "metadata": {},
   "outputs": [],
   "source": [
    "co2 = df.filter(variable='Emissions|CO2').timeseries()"
   ]
  },
  {
   "cell_type": "markdown",
   "metadata": {},
   "source": [
    "### A) Net-negative CO2 emissions"
   ]
  },
  {
   "cell_type": "code",
   "execution_count": null,
   "metadata": {},
   "outputs": [],
   "source": [
    "co2_nn = co2.applymap(lambda x: - min(x, 0)).reset_index()\n",
    "co2_nn.variable = 'Emissions|CO2|Net-negative'"
   ]
  },
  {
   "cell_type": "code",
   "execution_count": null,
   "metadata": {},
   "outputs": [],
   "source": [
    "co2_nn_df = pyam.IamDataFrame(co2_nn)"
   ]
  },
  {
   "cell_type": "code",
   "execution_count": null,
   "metadata": {},
   "outputs": [],
   "source": [
    "df.data = df.data.append(co2_nn_df.data, ignore_index=True)"
   ]
  },
  {
   "cell_type": "markdown",
   "metadata": {},
   "source": [
    "### B) Net-negative-negative CO2 emissions"
   ]
  },
  {
   "cell_type": "code",
   "execution_count": null,
   "metadata": {},
   "outputs": [],
   "source": [
    "co2_nn_neg = co2.applymap(lambda x: min(x, 0)).reset_index()\n",
    "co2_nn_neg.variable = 'Emissions|CO2|Net-negative-negative'"
   ]
  },
  {
   "cell_type": "code",
   "execution_count": null,
   "metadata": {},
   "outputs": [],
   "source": [
    "co2_nn_neg_df = pyam.IamDataFrame(co2_nn_neg)"
   ]
  },
  {
   "cell_type": "code",
   "execution_count": null,
   "metadata": {},
   "outputs": [],
   "source": [
    "df.data = df.data.append(co2_nn_neg_df.data, ignore_index=True)"
   ]
  },
  {
   "cell_type": "markdown",
   "metadata": {},
   "source": [
    "## Retrieve carbon dioxide emissions from agriculture, forestry and land-use"
   ]
  },
  {
   "cell_type": "code",
   "execution_count": null,
   "metadata": {},
   "outputs": [],
   "source": [
    "co2_afolu = df.filter(variable='Emissions|CO2|AFOLU').timeseries()"
   ]
  },
  {
   "cell_type": "code",
   "execution_count": null,
   "metadata": {},
   "outputs": [],
   "source": [
    "co_afolu_nn = co2_afolu.applymap(lambda x: - min(x, 0)).reset_index()\n",
    "co_afolu_nn.variable = 'Emissions|CO2|AFOLU|Net-negative'"
   ]
  },
  {
   "cell_type": "code",
   "execution_count": null,
   "metadata": {},
   "outputs": [],
   "source": [
    "co_afolu_nn_df = pyam.IamDataFrame(co_afolu_nn)"
   ]
  },
  {
   "cell_type": "code",
   "execution_count": null,
   "metadata": {},
   "outputs": [],
   "source": [
    "df.data = df.data.append(co_afolu_nn_df.data, ignore_index=True)"
   ]
  },
  {
   "cell_type": "markdown",
   "metadata": {},
   "source": [
    "## Determine emissions reductions from land use\n",
    "\n",
    "### Where possible, determine AFOLU CO2 emissions reduction relative to baseline"
   ]
  },
  {
   "cell_type": "code",
   "execution_count": null,
   "metadata": {},
   "outputs": [],
   "source": [
    "base_mapping = df.meta.reset_index()[['model', 'scenario', 'baseline']].groupby(['model'])"
   ]
  },
  {
   "cell_type": "code",
   "execution_count": null,
   "metadata": {},
   "outputs": [],
   "source": [
    "afolu_cdr_lst = []\n",
    "\n",
    "for mapping in base_mapping:\n",
    "    m = mapping[0]\n",
    "    _df = co_afolu_nn_df.filter(model=m, year=range(2020, 2101))\n",
    "    base_mapping_by_model = mapping[1].groupby(['baseline'])\n",
    "    for _mapping in base_mapping_by_model:\n",
    "        b = _mapping[0]\n",
    "        base = _df.filter(scenario=b).timeseries()\n",
    "        base.index = base.index.droplevel([1, 2, 3, 4])\n",
    "\n",
    "        for s in _mapping[1].scenario:\n",
    "            cdr = _df.filter(scenario=s).timeseries()\n",
    "            cdr.index = cdr.index.droplevel([1, 2, 3, 4])\n",
    "            cdr = cdr - base\n",
    "            cdr['scenario'] = s\n",
    "            afolu_cdr_lst.append(cdr)"
   ]
  },
  {
   "cell_type": "code",
   "execution_count": null,
   "metadata": {},
   "outputs": [],
   "source": [
    "afolu_cdr = pd.concat(afolu_cdr_lst, sort=False).reset_index()\n",
    "afolu_cdr['region'] = 'World'\n",
    "afolu_cdr['variable'] = 'Emissions|CO2|AFOLU|Net-negative reduction'\n",
    "afolu_cdr['unit'] = 'MtCO2'"
   ]
  },
  {
   "cell_type": "code",
   "execution_count": null,
   "metadata": {},
   "outputs": [],
   "source": [
    "afolu_cdr_df = pyam.IamDataFrame(afolu_cdr)"
   ]
  },
  {
   "cell_type": "markdown",
   "metadata": {},
   "source": [
    "### For scenarios that do not provide a baseline, use the self-reported land-iuse carbon sequestration timeseries"
   ]
  },
  {
   "cell_type": "code",
   "execution_count": null,
   "metadata": {},
   "outputs": [],
   "source": [
    "alofu_cdr_direct_df = df.filter(variable='Carbon Sequestration|Land Use',\n",
    "                                scenario=['PEP*', 'IMA15*', 'LowEnergyDemand'],\n",
    "                                year=range(2020, 2101)\n",
    "                               )"
   ]
  },
  {
   "cell_type": "markdown",
   "metadata": {},
   "source": [
    "### Check that methods 1 and 2 do not overlap, then merge"
   ]
  },
  {
   "cell_type": "code",
   "execution_count": null,
   "metadata": {},
   "outputs": [],
   "source": [
    "if not afolu_cdr_df.meta.index.intersection(alofu_cdr_direct_df.meta.index).empty:\n",
    "    print('There is an overlap of index sets!')"
   ]
  },
  {
   "cell_type": "code",
   "execution_count": null,
   "metadata": {},
   "outputs": [],
   "source": [
    "afolu_cdr_df.data = afolu_cdr_df.data.append(alofu_cdr_direct_df.data, ignore_index=True)"
   ]
  },
  {
   "cell_type": "markdown",
   "metadata": {},
   "source": [
    "## Remove 'Carbon Sequestration|Land Use' from `IamDataFrame` and merge in alternative metrics"
   ]
  },
  {
   "cell_type": "code",
   "execution_count": null,
   "metadata": {},
   "outputs": [],
   "source": [
    "df.filter(variable='Carbon Sequestration|Land Use', keep=False, inplace=True)"
   ]
  },
  {
   "cell_type": "code",
   "execution_count": null,
   "metadata": {
    "scrolled": true
   },
   "outputs": [],
   "source": [
    "df.data = df.data.append(afolu_cdr_df.data, ignore_index=True)"
   ]
  },
  {
   "cell_type": "code",
   "execution_count": null,
   "metadata": {},
   "outputs": [],
   "source": [
    "df.rename({'variable': {'Carbon Sequestration|Land Use': 'AFOLU CDR',\n",
    "                        'Emissions|CO2|AFOLU|Net-negative reduction': 'AFOLU CDR'}}, inplace=True)"
   ]
  },
  {
   "cell_type": "code",
   "execution_count": null,
   "metadata": {},
   "outputs": [],
   "source": [
    "exclude_no_afolue_cdr = df.require_variable('AFOLU CDR', exclude_on_fail=True)"
   ]
  },
  {
   "cell_type": "code",
   "execution_count": null,
   "metadata": {},
   "outputs": [],
   "source": [
    "df.filter(exclude=False, inplace=True)"
   ]
  },
  {
   "cell_type": "markdown",
   "metadata": {},
   "source": [
    "## Rename variables for plots"
   ]
  },
  {
   "cell_type": "code",
   "execution_count": null,
   "metadata": {},
   "outputs": [],
   "source": [
    "variable_mapping = [\n",
    "    ('Total CDR', [\n",
    "        'Carbon Sequestration|CCS|Biomass',\n",
    "        'AFOLU CDR',\n",
    "        'Carbon Sequestration|Direct Air Capture',\n",
    "        'Carbon Sequestration|Enhanced Weathering']),\n",
    "    ('AFOLU CDR', 'AFOLU CDR'),\n",
    "    ('BECCS', 'Carbon Sequestration|CCS|Biomass'),\n",
    "    ('Net negative CO2', 'Emissions|CO2|Net-negative'),\n",
    "    ('Compensate CDR', [\n",
    "        'Carbon Sequestration|CCS|Biomass',\n",
    "        'AFOLU CDR',\n",
    "        'Carbon Sequestration|Direct Air Capture',\n",
    "        'Carbon Sequestration|Enhanced Weathering',\n",
    "        'Emissions|CO2|Net-negative-negative'])\n",
    "]"
   ]
  },
  {
   "cell_type": "code",
   "execution_count": null,
   "metadata": {},
   "outputs": [],
   "source": [
    "valid_variables = []\n",
    "for (name, variable) in variable_mapping:\n",
    "    if pyam.isstr(variable):\n",
    "        valid_variables.append(variable)\n",
    "    else:\n",
    "        for v in variable:\n",
    "            valid_variables.append(v)"
   ]
  },
  {
   "cell_type": "code",
   "execution_count": null,
   "metadata": {},
   "outputs": [],
   "source": [
    "df.filter(variable=valid_variables, inplace=True)"
   ]
  },
  {
   "cell_type": "markdown",
   "metadata": {},
   "source": [
    "## Plot by warming category with multiple last years"
   ]
  },
  {
   "cell_type": "code",
   "execution_count": null,
   "metadata": {},
   "outputs": [],
   "source": [
    "cats.remove('Above 2C')"
   ]
  },
  {
   "cell_type": "code",
   "execution_count": null,
   "metadata": {},
   "outputs": [],
   "source": [
    "def marker_args(m):\n",
    "    return dict(zorder=4,\n",
    "                edgecolors=rc['edgecolors']['marker'][m],\n",
    "                c=rc['c']['marker'][m],\n",
    "                marker=rc['marker']['marker'][m],\n",
    "                linewidths=1)"
   ]
  },
  {
   "cell_type": "code",
   "execution_count": null,
   "metadata": {
    "scrolled": true
   },
   "outputs": [],
   "source": [
    "def boxplot_cumulative_ccs(ymax, last_year, panel_label, legend=True):\n",
    "    fig = plt.figure(figsize=(8, 3))\n",
    "\n",
    "    _cats = len(cats) - 1\n",
    "    label_list = []\n",
    "\n",
    "    for i, (name, v) in enumerate(variable_mapping):\n",
    "        _df = df.filter(variable=v, year=range(2020, 2101, 10)).timeseries() / 1000\n",
    "        _df = _df.groupby(['model', 'scenario']).sum()\n",
    "        _df = pd.DataFrame(_df.apply(pyam.cumulative, raw=False, axis=1, first_year=2020, last_year=last_year))\n",
    "        _df = pyam.filter_by_meta(_df, df, category=cats, marker=None, join_meta=True)\n",
    "\n",
    "        for j, c in enumerate(cats):\n",
    "            __df = _df[_df.category == c]\n",
    "            lst = __df[0][~np.isnan(__df[0])]\n",
    "            pos = 0.5 / _cats * (j - _cats / 2) + i\n",
    "\n",
    "            outliers = len(lst[lst > ymax])\n",
    "            if outliers > 0:\n",
    "                plt.text(pos - 0.01 * len(cats), ymax * 1.01, outliers)\n",
    "\n",
    "            p = plt.boxplot(lst, positions=[pos], widths=(0.3 / _cats),\n",
    "                            whis='range',\n",
    "                            patch_artist=True)\n",
    "            plt.setp(p['boxes'], color=rc['color']['category'][c])\n",
    "            plt.setp(p['medians'], color='black')\n",
    "\n",
    "            for m in marker:\n",
    "                val = __df.loc[_df.marker == m, 0]\n",
    "                if not val.empty:\n",
    "                    plt.scatter(x=pos, y=val, **marker_args(m),\n",
    "                                s=40, label=None)\n",
    "\n",
    "        label_list.append(name)\n",
    "\n",
    "    for m in marker:\n",
    "        meta = df.filter(marker=m).timeseries()\n",
    "        if not meta.empty:\n",
    "            meta = meta.iloc[0].name[0:2]\n",
    "            plt.scatter(x=[], y=[], **marker_args(m), s=60, label=m)\n",
    "\n",
    "    for j, c in enumerate(cats):\n",
    "        plt.plot([], c=rc['color']['category'][c], label='{}'.format(c))\n",
    "\n",
    "    if legend:\n",
    "        plt.legend()\n",
    "\n",
    "    plt.grid(False)\n",
    "    plt.xlim(-0.6, (i + 0.6))\n",
    "    plt.xticks(range(0, i + 1), label_list)\n",
    "    plt.vlines(x=[_i + 0.5 for _i in range(i)], ymin=0, ymax=ymax, colors='white')\n",
    "    plt.ylim(0, ymax)\n",
    "    plt.ylabel('Cumulative CO2 until {} (GtCO2)'.format(last_year))\n",
    "\n",
    "    fig.savefig('output/fig2.9{}_cdr_{}.png'.format(panel_label, last_year))"
   ]
  },
  {
   "cell_type": "code",
   "execution_count": null,
   "metadata": {},
   "outputs": [],
   "source": [
    "boxplot_cumulative_ccs(340, 2050, 'a')"
   ]
  },
  {
   "cell_type": "code",
   "execution_count": null,
   "metadata": {},
   "outputs": [],
   "source": [
    "boxplot_cumulative_ccs(1250, 2100, 'b', legend=False)"
   ]
  },
  {
   "cell_type": "markdown",
   "metadata": {},
   "source": [
    "## Export timeseries data to `xlsx`"
   ]
  },
  {
   "cell_type": "code",
   "execution_count": null,
   "metadata": {},
   "outputs": [],
   "source": [
    "df.to_excel('output/fig2.9_data_table.xlsx')"
   ]
  },
  {
   "cell_type": "code",
   "execution_count": null,
   "metadata": {},
   "outputs": [],
   "source": []
  }
 ],
 "metadata": {
  "kernelspec": {
   "display_name": "Python [conda env:anaconda]",
   "language": "python",
   "name": "conda-env-anaconda-py"
  },
  "language_info": {
   "codemirror_mode": {
    "name": "ipython",
    "version": 3
   },
   "file_extension": ".py",
   "mimetype": "text/x-python",
   "name": "python",
   "nbconvert_exporter": "python",
   "pygments_lexer": "ipython3",
   "version": "3.6.6"
  }
 },
 "nbformat": 4,
 "nbformat_minor": 2
}
